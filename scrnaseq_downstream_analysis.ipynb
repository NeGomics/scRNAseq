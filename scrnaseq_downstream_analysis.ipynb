{
 "cells": [
  {
   "cell_type": "code",
   "execution_count": null,
   "id": "b5a77a49",
   "metadata": {},
   "outputs": [],
   "source": [
    "pwd"
   ]
  },
  {
   "cell_type": "code",
   "execution_count": null,
   "id": "2c098910",
   "metadata": {},
   "outputs": [],
   "source": [
    "pip install scanpy"
   ]
  },
  {
   "cell_type": "code",
   "execution_count": null,
   "id": "709b685d",
   "metadata": {},
   "outputs": [],
   "source": [
    "pip install 'scanpy[leiden]'"
   ]
  },
  {
   "cell_type": "code",
   "execution_count": null,
   "id": "198837d5",
   "metadata": {},
   "outputs": [],
   "source": [
    "import numpy as np\n",
    "import pandas as pd\n",
    "#from pandas import Series,Dataframe\n",
    "import scanpy as sc\n",
    "import scipy.cluster\n",
    "from os.path import join\n",
    "import seaborn as sns\n",
    "from matplotlib.pyplot import rc_context\n",
    "import numba as nb\n",
    "import networkx as nx\n",
    "from matplotlib import rcParams\n"
   ]
  },
  {
   "cell_type": "code",
   "execution_count": null,
   "id": "257be725",
   "metadata": {},
   "outputs": [],
   "source": [
    "sc.settings.verbosity = 3             # verbosity: errors (0), warnings (1), info (2), hints (3)\n",
    "sc.logging.print_header()\n",
    "sc.settings.set_figure_params(dpi=80, facecolor='white')"
   ]
  },
  {
   "cell_type": "code",
   "execution_count": null,
   "id": "be5bc48f",
   "metadata": {},
   "outputs": [],
   "source": [
    "pwd"
   ]
  },
  {
   "cell_type": "code",
   "execution_count": null,
   "id": "75f64b47",
   "metadata": {},
   "outputs": [],
   "source": [
    "adata = sc.read_h5ad('Tabula_28.h5ad')"
   ]
  },
  {
   "cell_type": "code",
   "execution_count": null,
   "id": "6032518e",
   "metadata": {},
   "outputs": [],
   "source": [
    "Atlas_adata = sc.read_h5ad('prostate_portal_300921.h5ad')"
   ]
  },
  {
   "cell_type": "code",
   "execution_count": null,
   "id": "467aba73",
   "metadata": {},
   "outputs": [],
   "source": [
    "adata"
   ]
  },
  {
   "cell_type": "code",
   "execution_count": null,
   "id": "48595c41",
   "metadata": {},
   "outputs": [],
   "source": [
    "Atlas_adata"
   ]
  },
  {
   "cell_type": "code",
   "execution_count": null,
   "id": "2b14d0c4",
   "metadata": {},
   "outputs": [],
   "source": [
    "adata.n_obs"
   ]
  },
  {
   "cell_type": "code",
   "execution_count": null,
   "id": "ccaa6a80",
   "metadata": {},
   "outputs": [],
   "source": [
    "Atlas_adata.n_obs"
   ]
  },
  {
   "cell_type": "code",
   "execution_count": null,
   "id": "038afcdd",
   "metadata": {},
   "outputs": [],
   "source": [
    "adata.var_names\n"
   ]
  },
  {
   "cell_type": "code",
   "execution_count": null,
   "id": "292d3a0a",
   "metadata": {},
   "outputs": [],
   "source": [
    "adata.var_names_make_unique()"
   ]
  },
  {
   "cell_type": "code",
   "execution_count": null,
   "id": "2d298db0",
   "metadata": {},
   "outputs": [],
   "source": [
    "adata.layers[\"counts\"] = adata.X.copy()\n",
    "sc.pp.filter_genes(adata, min_counts=1)\n",
    "adata"
   ]
  },
  {
   "cell_type": "code",
   "execution_count": null,
   "id": "7df0729b",
   "metadata": {},
   "outputs": [],
   "source": []
  },
  {
   "cell_type": "code",
   "execution_count": null,
   "id": "16cf01da",
   "metadata": {},
   "outputs": [],
   "source": [
    "Atlas_adata.var_names"
   ]
  },
  {
   "cell_type": "code",
   "execution_count": null,
   "id": "0c09f093",
   "metadata": {},
   "outputs": [],
   "source": [
    "Atlas_adata.layers[\"counts\"] = Atlas_adata.X.copy()\n",
    "sc.pp.filter_genes(Atlas_adata, min_counts=1)\n",
    "Atlas_adata"
   ]
  },
  {
   "cell_type": "code",
   "execution_count": null,
   "id": "b1ebee7a",
   "metadata": {},
   "outputs": [],
   "source": [
    "Atlas_adata.var_names"
   ]
  },
  {
   "cell_type": "code",
   "execution_count": null,
   "id": "776798ab",
   "metadata": {},
   "outputs": [],
   "source": [
    "Atlas_adata.var[\"feature_types\"].value_counts()"
   ]
  },
  {
   "cell_type": "code",
   "execution_count": null,
   "id": "72c019f5",
   "metadata": {},
   "outputs": [],
   "source": [
    "Atlas_adata.shape"
   ]
  },
  {
   "cell_type": "code",
   "execution_count": null,
   "id": "774b9cdb",
   "metadata": {},
   "outputs": [],
   "source": [
    "rna = Atlas_adata[:, Atlas_adata.var[\"feature_types\"] == \"Gene Expression\"].copy()"
   ]
  },
  {
   "cell_type": "code",
   "execution_count": null,
   "id": "d3a11fe6",
   "metadata": {},
   "outputs": [],
   "source": [
    "rna.var[\"mito\"] = rna.var_names.str.startswith(\"MT-\")"
   ]
  },
  {
   "cell_type": "code",
   "execution_count": null,
   "id": "09cf4842",
   "metadata": {},
   "outputs": [],
   "source": [
    "\n",
    "sc.pp.normalize_total(rna)\n",
    "sc.pp.log1p(rna)"
   ]
  },
  {
   "cell_type": "code",
   "execution_count": null,
   "id": "10a4a899",
   "metadata": {},
   "outputs": [],
   "source": [
    "rcParams['figure.figsize'] = 4, 4"
   ]
  },
  {
   "cell_type": "code",
   "execution_count": null,
   "id": "f345ddda",
   "metadata": {},
   "outputs": [],
   "source": [
    "sc.pl.umap(Atlas_adata, color=['group'], s=50)"
   ]
  },
  {
   "cell_type": "code",
   "execution_count": null,
   "id": "31f456bd",
   "metadata": {},
   "outputs": [],
   "source": [
    "sc.pl.umap(rna, color=['group'], s=50)"
   ]
  },
  {
   "cell_type": "code",
   "execution_count": null,
   "id": "0dd41001",
   "metadata": {},
   "outputs": [],
   "source": [
    "sc.pl.umap(Atlas_adata, color=['leiden'], s=50)"
   ]
  },
  {
   "cell_type": "code",
   "execution_count": null,
   "id": "86cbe1f0",
   "metadata": {},
   "outputs": [],
   "source": [
    "sc.pl.umap(Atlas_adata, color=['celltype'])"
   ]
  },
  {
   "cell_type": "code",
   "execution_count": null,
   "id": "f597edd7",
   "metadata": {},
   "outputs": [],
   "source": [
    "sc.pl.umap(rna, color=['celltype'])"
   ]
  },
  {
   "cell_type": "code",
   "execution_count": null,
   "id": "a4511219",
   "metadata": {},
   "outputs": [],
   "source": [
    "marker_genes = ['ANO7']"
   ]
  },
  {
   "cell_type": "code",
   "execution_count": null,
   "id": "eb03c473",
   "metadata": {},
   "outputs": [],
   "source": [
    "A_adata1 = Atlas_adata[Atlas_adata[: ,'ANO7'].X > 0.5, :]\n",
    "A_adata2 = Atlas_adata[Atlas_adata[: ,'ANO7'].X > 0, :]\n",
    "A_adata3 = Atlas_adata[Atlas_adata[: ,'ANO7'].X > 1, :]"
   ]
  },
  {
   "cell_type": "code",
   "execution_count": null,
   "id": "1803f39a",
   "metadata": {},
   "outputs": [],
   "source": []
  },
  {
   "cell_type": "code",
   "execution_count": null,
   "id": "deb57a06",
   "metadata": {},
   "outputs": [],
   "source": [
    "A_adata"
   ]
  },
  {
   "cell_type": "code",
   "execution_count": null,
   "id": "af22e1b6",
   "metadata": {},
   "outputs": [],
   "source": [
    "sc.pl.umap(A_adata1, color=['celltype'])"
   ]
  },
  {
   "cell_type": "code",
   "execution_count": null,
   "id": "2324916c",
   "metadata": {},
   "outputs": [],
   "source": [
    "sc.pl.umap(A_adata2, color=['celltype'])"
   ]
  },
  {
   "cell_type": "code",
   "execution_count": null,
   "id": "324436ae",
   "metadata": {},
   "outputs": [],
   "source": [
    "sc.pl.umap(A_adata3, color=['celltype'])"
   ]
  },
  {
   "cell_type": "code",
   "execution_count": null,
   "id": "873616e4",
   "metadata": {},
   "outputs": [],
   "source": [
    "ax = sc.pl.tracksplot(Atlas_adata,marker_genes, groupby='celltype')"
   ]
  },
  {
   "cell_type": "code",
   "execution_count": null,
   "id": "9c9531a0",
   "metadata": {},
   "outputs": [],
   "source": [
    "with rc_context({'figure.figsize': (20,30)}): sc.pl.violin(Atlas_adata, ['ANO7'], groupby='celltype')"
   ]
  },
  {
   "cell_type": "code",
   "execution_count": null,
   "id": "cfd82fab",
   "metadata": {},
   "outputs": [],
   "source": [
    "highlevel_labels = {\"0\": \"T-Cells\",\"1\": \"LE-KLK3\",\"2\": \"LE-KLK4\", \"3\": \"Sperm\",}"
   ]
  },
  {
   "cell_type": "code",
   "execution_count": null,
   "id": "0166e0ab",
   "metadata": {},
   "outputs": [],
   "source": [
    "sc.pp.normalize_total(rna)"
   ]
  },
  {
   "cell_type": "code",
   "execution_count": null,
   "id": "27bdd2b9",
   "metadata": {},
   "outputs": [],
   "source": [
    "sc.pp.log1p(rna)"
   ]
  },
  {
   "cell_type": "code",
   "execution_count": null,
   "id": "b148090c",
   "metadata": {},
   "outputs": [],
   "source": [
    "with rc_context({'figure.figsize': (10, 10)}):\n",
    "    sc.pl.umap(A_adata3, color='ANO7')"
   ]
  },
  {
   "cell_type": "code",
   "execution_count": null,
   "id": "23f5d506",
   "metadata": {},
   "outputs": [],
   "source": [
    "with rc_context({'figure.figsize': (10, 10)}):\n",
    "    sc.pl.umap(A_adata1, color='ANO7')"
   ]
  },
  {
   "cell_type": "code",
   "execution_count": null,
   "id": "7e05db8b",
   "metadata": {},
   "outputs": [],
   "source": [
    "with rc_context({'figure.figsize': (10, 10)}):\n",
    "    sc.pl.umap(A_adata2, color='ANO7')"
   ]
  },
  {
   "cell_type": "code",
   "execution_count": null,
   "id": "5bbff154",
   "metadata": {},
   "outputs": [],
   "source": [
    "A_adata3 = Atlas_adata[Atlas_adata[: ,'ANO7'].X > 1, :]"
   ]
  },
  {
   "cell_type": "code",
   "execution_count": null,
   "id": "cd8647c4",
   "metadata": {},
   "outputs": [],
   "source": [
    "A_adata3"
   ]
  },
  {
   "cell_type": "code",
   "execution_count": null,
   "id": "0d7be551",
   "metadata": {},
   "outputs": [],
   "source": [
    "A_adata3.obs['class']='high'\n",
    "A_adata.obs"
   ]
  },
  {
   "cell_type": "code",
   "execution_count": null,
   "id": "72e593cb",
   "metadata": {},
   "outputs": [],
   "source": [
    "A_adata3"
   ]
  },
  {
   "cell_type": "code",
   "execution_count": null,
   "id": "0e8a8ebc",
   "metadata": {},
   "outputs": [],
   "source": [
    "low_exp = Atlas_adata[Atlas_adata[:,'ANO7'].X <= 1,:]"
   ]
  },
  {
   "cell_type": "code",
   "execution_count": null,
   "id": "eceafc58",
   "metadata": {},
   "outputs": [],
   "source": [
    "Atlas_adata"
   ]
  },
  {
   "cell_type": "code",
   "execution_count": null,
   "id": "493d3a67",
   "metadata": {},
   "outputs": [],
   "source": []
  },
  {
   "cell_type": "code",
   "execution_count": null,
   "id": "0e1e9600",
   "metadata": {},
   "outputs": [],
   "source": [
    "Atlas_adata"
   ]
  },
  {
   "cell_type": "code",
   "execution_count": null,
   "id": "16afdcf8",
   "metadata": {},
   "outputs": [],
   "source": [
    "adata_normal = Atlas_adata[Atlas_adata.obs[\"group\"] == \"normal\", :]"
   ]
  },
  {
   "cell_type": "code",
   "execution_count": null,
   "id": "1f6215f0",
   "metadata": {},
   "outputs": [],
   "source": [
    "adata_normal"
   ]
  },
  {
   "cell_type": "code",
   "execution_count": null,
   "id": "14692583",
   "metadata": {},
   "outputs": [],
   "source": [
    "sc.pl.umap(Atlas_adata, color=['group'])"
   ]
  },
  {
   "cell_type": "code",
   "execution_count": null,
   "id": "5c4199db",
   "metadata": {},
   "outputs": [],
   "source": [
    "adata_normal = Atlas_adata[Atlas_adata.obs[\"group\"] == \"normal\", :]"
   ]
  },
  {
   "cell_type": "code",
   "execution_count": null,
   "id": "611ea7f2",
   "metadata": {},
   "outputs": [],
   "source": [
    "sc.pl.umap(adata_normal, color=['group'])"
   ]
  },
  {
   "cell_type": "code",
   "execution_count": null,
   "id": "18186a11",
   "metadata": {},
   "outputs": [],
   "source": [
    "adata_tumor = Atlas_adata[Atlas_adata.obs[\"group\"] == \"tumor\", :]"
   ]
  },
  {
   "cell_type": "code",
   "execution_count": null,
   "id": "3baf9269",
   "metadata": {},
   "outputs": [],
   "source": [
    "sc.pl.umap(adata_tumor, color=['group'])"
   ]
  },
  {
   "cell_type": "code",
   "execution_count": null,
   "id": "ba22ca44",
   "metadata": {},
   "outputs": [],
   "source": [
    "adata_normal"
   ]
  },
  {
   "cell_type": "code",
   "execution_count": null,
   "id": "8101047c",
   "metadata": {},
   "outputs": [],
   "source": [
    "adata_tumor"
   ]
  },
  {
   "cell_type": "code",
   "execution_count": null,
   "id": "2ed9237f",
   "metadata": {},
   "outputs": [],
   "source": [
    "adata_tumor_cell = adata_tumor[adata_tumor.obs[\"celltype\"] == \"LE-KLK3\", :]"
   ]
  },
  {
   "cell_type": "code",
   "execution_count": null,
   "id": "0d44af30",
   "metadata": {},
   "outputs": [],
   "source": [
    "sc.pl.umap(adata_tumor_cell, color=['leiden'])"
   ]
  },
  {
   "cell_type": "code",
   "execution_count": null,
   "id": "61ea01cc",
   "metadata": {},
   "outputs": [],
   "source": [
    "adata_tumor_cell_K4 = adata_tumor[adata_tumor.obs[\"celltype\"] == \"LE-KLK4\", :]"
   ]
  },
  {
   "cell_type": "code",
   "execution_count": null,
   "id": "37010e03",
   "metadata": {},
   "outputs": [],
   "source": [
    "sc.pl.umap(adata_tumor_cell_K4, color=['leiden'])"
   ]
  },
  {
   "cell_type": "code",
   "execution_count": null,
   "id": "1f45b688",
   "metadata": {},
   "outputs": [],
   "source": [
    "adata_tumor_cell"
   ]
  },
  {
   "cell_type": "code",
   "execution_count": null,
   "id": "99264427",
   "metadata": {},
   "outputs": [],
   "source": [
    "adata_tumor_cell_K4"
   ]
  },
  {
   "cell_type": "code",
   "execution_count": null,
   "id": "819f52ef",
   "metadata": {},
   "outputs": [],
   "source": [
    "adata_normal_cell = adata_normal[adata_normal.obs[\"celltype\"] == \"LE-KLK3\", :]"
   ]
  },
  {
   "cell_type": "code",
   "execution_count": null,
   "id": "077a1ec8",
   "metadata": {},
   "outputs": [],
   "source": [
    "adata_normal_cell"
   ]
  },
  {
   "cell_type": "code",
   "execution_count": null,
   "id": "e605f7fd",
   "metadata": {},
   "outputs": [],
   "source": [
    "sc.pl.umap(adata_normal_cell, color=['leiden'])"
   ]
  },
  {
   "cell_type": "code",
   "execution_count": null,
   "id": "a3d5b384",
   "metadata": {},
   "outputs": [],
   "source": [
    "adata_normal_cell_K4 = adata_normal[adata_normal.obs[\"celltype\"] == \"LE-KLK4\", :]"
   ]
  },
  {
   "cell_type": "code",
   "execution_count": null,
   "id": "f3e0288d",
   "metadata": {},
   "outputs": [],
   "source": [
    "sc.pl.umap(adata_normal_cell_K4, color='leiden')"
   ]
  },
  {
   "cell_type": "code",
   "execution_count": null,
   "id": "dfc9264a",
   "metadata": {},
   "outputs": [],
   "source": [
    "ANO_High = adata_normal_cell[adata_normal_cell[: ,'ANO7'].X > 0.5, :]"
   ]
  },
  {
   "cell_type": "code",
   "execution_count": null,
   "id": "ec2af06e",
   "metadata": {},
   "outputs": [],
   "source": [
    "ANO_Low = adata_normal_cell[adata_normal_cell[: ,'ANO7'].X < 0.5, :]"
   ]
  },
  {
   "cell_type": "code",
   "execution_count": null,
   "id": "c7ed1128",
   "metadata": {},
   "outputs": [],
   "source": [
    "ANO_Low"
   ]
  },
  {
   "cell_type": "code",
   "execution_count": null,
   "id": "48b56cf4",
   "metadata": {},
   "outputs": [],
   "source": [
    "ANO_High"
   ]
  },
  {
   "cell_type": "code",
   "execution_count": null,
   "id": "2ee5a8db",
   "metadata": {},
   "outputs": [],
   "source": [
    "ANO_High_1 = adata_normal_cell[adata_normal_cell[: ,'ANO7'].X > 1, :]"
   ]
  },
  {
   "cell_type": "code",
   "execution_count": null,
   "id": "ce79fe76",
   "metadata": {},
   "outputs": [],
   "source": [
    "ANO_High_1"
   ]
  },
  {
   "cell_type": "code",
   "execution_count": null,
   "id": "800d0f62",
   "metadata": {},
   "outputs": [],
   "source": [
    "ANO_Low_1 = adata_normal_cell[adata_normal_cell[: ,'ANO7'].X < 1, :]"
   ]
  },
  {
   "cell_type": "code",
   "execution_count": null,
   "id": "972d31c8",
   "metadata": {},
   "outputs": [],
   "source": [
    "ANO_Low_1"
   ]
  },
  {
   "cell_type": "code",
   "execution_count": null,
   "id": "71838258",
   "metadata": {},
   "outputs": [],
   "source": [
    "ANO_High_deci = adata_normal_cell[adata_normal_cell[: ,'ANO7'].X > 0.5, :]\n",
    "ANO_Low_zero = adata_normal_cell[adata_normal_cell[: ,'ANO7'].X == 0, :]"
   ]
  },
  {
   "cell_type": "code",
   "execution_count": null,
   "id": "4d234e4b",
   "metadata": {},
   "outputs": [],
   "source": [
    "ANO_High_deci"
   ]
  },
  {
   "cell_type": "code",
   "execution_count": null,
   "id": "3620b72d",
   "metadata": {},
   "outputs": [],
   "source": [
    "ANO_Low_zero"
   ]
  },
  {
   "cell_type": "code",
   "execution_count": null,
   "id": "a2e8115b",
   "metadata": {},
   "outputs": [],
   "source": [
    "ANO_High_deci_tumor = adata_tumor_cell[adata_tumor_cell[: ,'ANO7'].X > 0.5, :]\n",
    "ANO_Low_zero_tumor = adata_tumor_cell[adata_tumor_cell[: ,'ANO7'].X == 0, :]"
   ]
  },
  {
   "cell_type": "code",
   "execution_count": null,
   "id": "311d18b6",
   "metadata": {},
   "outputs": [],
   "source": [
    "adata_tumor_cell.obs"
   ]
  },
  {
   "cell_type": "code",
   "execution_count": null,
   "id": "22148d2e",
   "metadata": {},
   "outputs": [],
   "source": [
    "#ANO_High_deci_tumor = adata_tumor_cell[adata_tumor_cell[: ,'ANO7'].X > 0.5, :]\n",
    "#ANO_Low_zero_tumor = adata_tumor_cell[adata_tumor_cell[: ,'ANO7'].X == 0, :]\n",
    "adata_TUMOR = adata_tumor_cell\n",
    "adata_NORMAL = adata_normal_cell"
   ]
  },
  {
   "cell_type": "code",
   "execution_count": null,
   "id": "9e12751c",
   "metadata": {},
   "outputs": [],
   "source": [
    "adata_TUMOR.obs[\"class\"] = \"high\"\n"
   ]
  },
  {
   "cell_type": "code",
   "execution_count": null,
   "id": "bc875dfa",
   "metadata": {},
   "outputs": [],
   "source": [
    "adata_TUMOR"
   ]
  },
  {
   "cell_type": "code",
   "execution_count": null,
   "id": "5c728452",
   "metadata": {},
   "outputs": [],
   "source": [
    "low_1 = adata_tumor_cell[adata_tumor_cell[: ,'ANO7'].X == 0, :]"
   ]
  },
  {
   "cell_type": "code",
   "execution_count": null,
   "id": "804453b1",
   "metadata": {},
   "outputs": [],
   "source": [
    "adata_TUMOR.obs.loc[low_1,'class'] = \"low\""
   ]
  },
  {
   "cell_type": "code",
   "execution_count": null,
   "id": "8dcb43fb",
   "metadata": {},
   "outputs": [],
   "source": []
  }
 ],
 "metadata": {
  "kernelspec": {
   "display_name": "Python 3 (ipykernel)",
   "language": "python",
   "name": "python3"
  },
  "language_info": {
   "codemirror_mode": {
    "name": "ipython",
    "version": 3
   },
   "file_extension": ".py",
   "mimetype": "text/x-python",
   "name": "python",
   "nbconvert_exporter": "python",
   "pygments_lexer": "ipython3",
   "version": "3.10.6"
  },
  "vscode": {
   "interpreter": {
    "hash": "916dbcbb3f70747c44a77c7bcd40155683ae19c65e1c03b4aa3499c5328201f1"
   }
  }
 },
 "nbformat": 4,
 "nbformat_minor": 5
}
